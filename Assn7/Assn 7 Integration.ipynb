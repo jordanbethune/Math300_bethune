{
 "cells": [
  {
   "cell_type": "markdown",
   "metadata": {},
   "source": [
    "2.1 Compute the symbolic definite integral"
   ]
  },
  {
   "cell_type": "markdown",
   "metadata": {},
   "source": [
    "In this first section I took the Sympy function to integrate the function from 1 to 7. By using the sympy function, defining x, and putting the answer into a decimal form I obtained an exact number from 1 to 7."
   ]
  },
  {
   "cell_type": "code",
   "execution_count": 30,
   "metadata": {},
   "outputs": [],
   "source": [
    "from sympy import *\n",
    "def exact(a, b):\n",
    "    x = Symbol('x')\n",
    "    answer = float(integrate(x**3*sin(4*x), (x,a,b)))\n",
    "    return answer"
   ]
  },
  {
   "cell_type": "code",
   "execution_count": 31,
   "metadata": {},
   "outputs": [
    {
     "data": {
      "text/plain": [
       "84.41637160591165"
      ]
     },
     "execution_count": 31,
     "metadata": {},
     "output_type": "execute_result"
    }
   ],
   "source": [
    "exact(1,7)"
   ]
  },
  {
   "cell_type": "markdown",
   "metadata": {},
   "source": [
    "2.2 Implement a monte carlo integrator"
   ]
  },
  {
   "cell_type": "markdown",
   "metadata": {},
   "source": [
    "In this next section we are using mcintegrate to find the low value, high values, obtain a new random value, and the approximation for the integral. Once we find the new x value I have to find the y value for the function. Then I am able to add up the y values in order to get the approximation for the integral while also multiplying it by the width. "
   ]
  },
  {
   "cell_type": "code",
   "execution_count": 33,
   "metadata": {},
   "outputs": [],
   "source": [
    "import random as random\n",
    "import numpy as np\n",
    "\n",
    "def f(x):\n",
    "    return ((x**3)*np.sin(4*x))\n",
    "\n",
    "def mcintegrate(a,b,n,fn):\n",
    "    np.random.seed(1)\n",
    "    runningSum = 0\n",
    "    \n",
    "    for i in range(n):\n",
    "        x = np.random.rand()\n",
    "        xnew = (x*(b-a)) +a\n",
    "        y = fn(xnew)\n",
    "        runningSum += y\n",
    "        \n",
    "        width = (b - a) / n\n",
    "        approximation = runningSum * width \n",
    "        \n",
    "    return approximation"
   ]
  },
  {
   "cell_type": "code",
   "execution_count": 34,
   "metadata": {},
   "outputs": [
    {
     "data": {
      "text/plain": [
       "76.718665506714416"
      ]
     },
     "execution_count": 34,
     "metadata": {},
     "output_type": "execute_result"
    }
   ],
   "source": [
    "mcintegrate(1,7,10000,f)"
   ]
  },
  {
   "cell_type": "markdown",
   "metadata": {},
   "source": [
    "2.3 Study the error as a function of sample count "
   ]
  },
  {
   "cell_type": "markdown",
   "metadata": {},
   "source": [
    "In this last section I am plotting the value of the difference between the exact integral value and the value calculated by the monte carlo method. The x-axis is the count and the y-axis is the error. "
   ]
  },
  {
   "cell_type": "code",
   "execution_count": 35,
   "metadata": {
    "collapsed": true
   },
   "outputs": [],
   "source": [
    "import matplotlib.pyplot as plt "
   ]
  },
  {
   "cell_type": "code",
   "execution_count": 36,
   "metadata": {
    "collapsed": true
   },
   "outputs": [],
   "source": [
    "errors = []\n",
    "counts = []\n",
    "count = 1000\n",
    "while count < 100000:\n",
    "    errors.append(np.abs(mcintegrate(1,7,count,f) - exact(1,7)))\n",
    "    counts.append(count)\n",
    "    count += 1000"
   ]
  },
  {
   "cell_type": "code",
   "execution_count": 37,
   "metadata": {},
   "outputs": [
    {
     "data": {
      "image/png": "[encoded data removed]",
      "text/plain": [
       "<matplotlib.figure.Figure at 0x10b4d3d30>"
      ]
     },
     "metadata": {},
     "output_type": "display_data"
    }
   ],
   "source": [
    "plt.plot(counts,errors)\n",
    "plt.xlabel('Number of Samples')\n",
    "plt.ylabel('Error')\n",
    "plt.show()"
   ]
  }
 ],
 "metadata": {
  "kernelspec": {
   "display_name": "Python 3",
   "language": "python",
   "name": "python3"
  },
  "language_info": {
   "codemirror_mode": {
    "name": "ipython",
    "version": 3
   },
   "file_extension": ".py",
   "mimetype": "text/x-python",
   "name": "python",
   "nbconvert_exporter": "python",
   "pygments_lexer": "ipython3",
   "version": "3.6.2"
  }
 },
 "nbformat": 4,
 "nbformat_minor": 2
}
