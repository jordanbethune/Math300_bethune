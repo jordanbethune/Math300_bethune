{
 "cells": [
  {
   "cell_type": "markdown",
   "metadata": {},
   "source": [
    "# Homework 8: I/O and data structures practice"
   ]
  },
  {
   "cell_type": "markdown",
   "metadata": {},
   "source": [
    "## Goal"
   ]
  },
  {
   "cell_type": "markdown",
   "metadata": {},
   "source": [
    "In this assignment we will practice working with files, more practice with dictionaries, and performing some basic geometric computations. Recall earlier in the course I walked through an example of processing retail data where we\n",
    "had data about a set of products in a store, and the set of baskets that people bought.  We will work\n",
    "with that and extend it a little for this assignment.  Our working data will be the following:\n",
    "\n",
    "- _Product inventory_: This will be a table of products where each row corresponds to one product, and each column represents a property of the objects.  Specifically, our product inventory table will have five columns: a unique product ID, a text description of the product, a unit price in dollars, an X coordinate, and a Y coordinate.\n",
    "\n",
    "- _Sales data_: This will be a table of records from the point of sale system.  Each row will correspond to an item in a basket.  The columns will be the basket ID, the product ID, product quantity, and the product pick up order.  The product pick up order for a basket containing $n$ items will range from 1 to $n$ and corresponds to the order that the customer picked up the products as they went through the store.\n",
    "\n",
    "We will also be provided additional parameters about the store.  Specifically, we will be given the X,Y\n",
    "coordinates of the entry door, the checkout stand, and the exit door.  We are going to assume that this\n",
    "store has only one checkout line and all customers are good at following signs and always use the appropriate door for entry and exit.  We are also going to assume that customers have the magical ability to teleport through shelves so that they can take the shortest path from one product to the next, allowing us to avoid worrying about complex calculations of the distance between any two products.\n",
    "\n",
    "The coordinates of the entrance, exit, and checkout are:"
   ]
  },
  {
   "cell_type": "code",
   "execution_count": null,
   "metadata": {
    "collapsed": true
   },
   "outputs": [],
   "source": [
    "store_entrance = (10,0)\n",
    "store_exit = (90,0)\n",
    "store_checkout = (50,10)"
   ]
  },
  {
   "cell_type": "markdown",
   "metadata": {},
   "source": [
    "## Sample I/O code"
   ]
  },
  {
   "cell_type": "markdown",
   "metadata": {},
   "source": [
    "To get you started, here is code that reads in the inventory data from the CSV file and produces a dictionary of dictionaries.  The outer dictionary maps product IDs as strings to the inner dictionary, and the inner dictionary for each product maps an attribute (e.g., 'unit_price') to its value.  Numerical values are stored as floating point numbers, _not strings_."
   ]
  },
  {
   "cell_type": "code",
   "execution_count": 17,
   "metadata": {
    "collapsed": true
   },
   "outputs": [],
   "source": [
    "import csv"
   ]
  },
  {
   "cell_type": "code",
   "execution_count": 18,
   "metadata": {
    "collapsed": true
   },
   "outputs": [],
   "source": [
    "def read_inventory(filename):\n",
    "    # initialize empty dict\n",
    "    inventory={}\n",
    "    \n",
    "    # open the given file and name the file handle f\n",
    "    with open(filename) as f:\n",
    "        # create a CSV reader object from the file\n",
    "        reader = csv.reader(f)\n",
    "        \n",
    "        # advance the reader to skip the first header line\n",
    "        next(reader)\n",
    "        \n",
    "        # for each row in the CSV file, create the appropriate\n",
    "        # entry in the inventory.  this includes converting the\n",
    "        # strings for price, x, and y into floats so we can do\n",
    "        # arithmetic with them later.\n",
    "        for row in reader:\n",
    "            inventory[row[0]] = { 'desc':row[1],\n",
    "                                  'unit_price':float(row[2]),\n",
    "                                  'x':float(row[3]),\n",
    "                                  'y':float(row[4]) }\n",
    "            \n",
    "        return inventory"
   ]
  },
  {
   "cell_type": "code",
   "execution_count": 19,
   "metadata": {
    "collapsed": true
   },
   "outputs": [],
   "source": [
    "inventory = read_inventory('inventory.csv')"
   ]
  },
  {
   "cell_type": "markdown",
   "metadata": {},
   "source": [
    "Test it: what is the price of product ID 4?"
   ]
  },
  {
   "cell_type": "code",
   "execution_count": 31,
   "metadata": {},
   "outputs": [
    {
     "data": {
      "text/plain": [
       "{'desc': 'banana', 'unit_price': 0.49, 'x': 4.0, 'y': 80.0}"
      ]
     },
     "execution_count": 31,
     "metadata": {},
     "output_type": "execute_result"
    }
   ],
   "source": [
    "inventory['1']"
   ]
  },
  {
   "cell_type": "markdown",
   "metadata": {},
   "source": [
    "## Part 1: read the basket data"
   ]
  },
  {
   "cell_type": "markdown",
   "metadata": {},
   "source": [
    "Complete the following function to return a dictionary mapping basket ID to some data structure of your choice to represent the basket contents."
   ]
  },
  {
   "cell_type": "code",
   "execution_count": 35,
   "metadata": {},
   "outputs": [],
   "source": [
    "def read_baskets(filename):\n",
    "    \n",
    "    baskets={}\n",
    "    \n",
    "    with open(filename) as g:\n",
    "        reader = csv.reader(g)\n",
    "        next(reader)\n",
    "        \n",
    "        for row in reader:\n",
    "            if row[0] in baskets:\n",
    "                baskets[row[0]].append({\n",
    "                                        'product_id':row[1],\n",
    "                                        'quantity':row[2],\n",
    "                                        'pickup_order':row[3]})\n",
    "            else:\n",
    "                baskets[row[0]] = [{\n",
    "                                   'product_id':row[1],\n",
    "                                   'quantity':row[2],\n",
    "                                   'pickup_order':row[3]}]\n",
    "                \n",
    "    return baskets"
   ]
  },
  {
   "cell_type": "code",
   "execution_count": 36,
   "metadata": {},
   "outputs": [],
   "source": [
    "baskets = read_baskets('baskets.csv')"
   ]
  },
  {
   "cell_type": "code",
   "execution_count": 38,
   "metadata": {},
   "outputs": [
    {
     "data": {
      "text/plain": [
       "[{'pickup_order': '1', 'product_id': '1', 'quantity': '2'},\n",
       " {'pickup_order': '2', 'product_id': '3', 'quantity': '1'}]"
      ]
     },
     "execution_count": 38,
     "metadata": {},
     "output_type": "execute_result"
    }
   ],
   "source": [
    "baskets['1']"
   ]
  },
  {
   "cell_type": "markdown",
   "metadata": {},
   "source": [
    "## Part 2: Calculate the path length of each customer"
   ]
  },
  {
   "cell_type": "markdown",
   "metadata": {},
   "source": [
    "Given the basket data and inventory data, write a function that calculates the distance traveled by a customer through the store.  Their trip should go entry -> first product -> second product -> ... -> checkout -> exit.  You should assume that the customer takes a straight path from each point to the next."
   ]
  },
  {
   "cell_type": "code",
   "execution_count": 70,
   "metadata": {},
   "outputs": [],
   "source": [
    "def customer_trip(inventory, baskets, basket_id):\n",
    "    import math as math \n",
    "    \n",
    "    basket = baskets[str(basket_id)]\n",
    "    \n",
    "    numitems = len(basket)\n",
    "    prevpos = (10,0)\n",
    "    dist = 0\n",
    "    \n",
    "    for cur in range(1, numitems + 1):\n",
    "        for item in basket:\n",
    "            if item ['pickup_order'] == str(cur):\n",
    "                curpos = inventory[item['product_id']]['x'], inventory[item['product_id']]['y']\n",
    "                dist = dist + math.sqrt((curpos[0] - prevpos[0])**2 + (curpos[1] - prevpos[1])**2)\n",
    "                prevpos = curpos\n",
    "    dist = dist + math.sqrt((50 - prevpos[0])**2 + (10 - prevpos[1])**2)                \n",
    "    dist = dist + math.sqrt((40)**2 + (-10)**2)\n",
    "                                            \n",
    "    return dist"
   ]
  },
  {
   "cell_type": "code",
   "execution_count": 71,
   "metadata": {},
   "outputs": [
    {
     "data": {
      "text/plain": [
       "243.55449120845142"
      ]
     },
     "execution_count": 71,
     "metadata": {},
     "output_type": "execute_result"
    }
   ],
   "source": [
    "customer_trip(inventory, baskets, 3)"
   ]
  },
  {
   "cell_type": "markdown",
   "metadata": {},
   "source": [
    "## Part 3: Calculate the total price for each basket"
   ]
  },
  {
   "cell_type": "markdown",
   "metadata": {},
   "source": [
    "Given the basket and inventory data, write a function that calculates the total cost of a basket."
   ]
  },
  {
   "cell_type": "code",
   "execution_count": 48,
   "metadata": {
    "collapsed": true
   },
   "outputs": [],
   "source": [
    "def basket_total(inventory, baskets, basket_id):\n",
    "    \n",
    "    basket = baskets[str(basket_id)]\n",
    "    \n",
    "    totalprice = 0\n",
    "    \n",
    "    for i in basket:\n",
    "        totalprice += inventory[i['product_id']]['unit_price'] * float(i['quantity'])\n",
    "        \n",
    "    \n",
    "    return totalprice"
   ]
  },
  {
   "cell_type": "code",
   "execution_count": 49,
   "metadata": {},
   "outputs": [
    {
     "data": {
      "text/plain": [
       "1.97"
      ]
     },
     "execution_count": 49,
     "metadata": {},
     "output_type": "execute_result"
    }
   ],
   "source": [
    "basket_total(inventory, baskets, 1)"
   ]
  },
  {
   "cell_type": "markdown",
   "metadata": {},
   "source": [
    "## Part 4: Calculate the price per unit of distance traveled for all baskets"
   ]
  },
  {
   "cell_type": "markdown",
   "metadata": {},
   "source": [
    "For each basket we have a distance traveled and a total price.  Write a function that returns a dictionary mapping the basket ID to the price per unit distance travelled."
   ]
  },
  {
   "cell_type": "code",
   "execution_count": 77,
   "metadata": {},
   "outputs": [],
   "source": [
    "def price_distance_calculate(inventory, baskets):\n",
    "    \n",
    "    rat = {}\n",
    "    \n",
    "    for b in baskets:\n",
    "        rat[b] = basket_total(inventory, baskets, b) / customer_trip(inventory, baskets, b)\n",
    "        \n",
    "    return rat "
   ]
  },
  {
   "cell_type": "code",
   "execution_count": 78,
   "metadata": {},
   "outputs": [
    {
     "data": {
      "text/plain": [
       "{'1': 0.0091229257242453,\n",
       " '10': 0.032153884764837576,\n",
       " '2': 0.06942077638079959,\n",
       " '3': 0.09012356902592947,\n",
       " '4': 0.07881143685233731,\n",
       " '5': 0.07312101528805647,\n",
       " '6': 0.01730253662874167,\n",
       " '7': 0.055204158287642274,\n",
       " '8': 0.00905699668841218,\n",
       " '9': 0.06571221581998327}"
      ]
     },
     "execution_count": 78,
     "metadata": {},
     "output_type": "execute_result"
    }
   ],
   "source": [
    "price_distance_calculate(inventory, baskets)"
   ]
  },
  {
   "cell_type": "markdown",
   "metadata": {},
   "source": [
    "## Part 5: EXTRA CREDIT.  \n",
    "\n",
    "### Calculate the difference between the length of the path each customer took versus the shortest path they could have taken."
   ]
  },
  {
   "cell_type": "markdown",
   "metadata": {},
   "source": [
    "Each customer may have travelled the store inefficiently.  We would like to know the excess distance each customer covered versus what they could have done had they planned their trip more carefully.  Write a function that calculates the shortest path that a customer could have taken."
   ]
  },
  {
   "cell_type": "code",
   "execution_count": null,
   "metadata": {
    "collapsed": true
   },
   "outputs": [],
   "source": [
    "def customer_shortest_trip(inventory, baskets, basket_id):\n",
    "    # fill me in\n",
    "    pass"
   ]
  }
 ],
 "metadata": {
  "kernelspec": {
   "display_name": "Python 3",
   "language": "python",
   "name": "python3"
  },
  "language_info": {
   "codemirror_mode": {
    "name": "ipython",
    "version": 3
   },
   "file_extension": ".py",
   "mimetype": "text/x-python",
   "name": "python",
   "nbconvert_exporter": "python",
   "pygments_lexer": "ipython3",
   "version": "3.6.2"
  }
 },
 "nbformat": 4,
 "nbformat_minor": 2
}
